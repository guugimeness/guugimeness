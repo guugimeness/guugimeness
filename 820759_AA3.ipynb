{
  "nbformat": 4,
  "nbformat_minor": 0,
  "metadata": {
    "colab": {
      "provenance": [],
      "authorship_tag": "ABX9TyOpTDdkdogeSXqeTBLzTO9l",
      "include_colab_link": true
    },
    "kernelspec": {
      "name": "python3",
      "display_name": "Python 3"
    },
    "language_info": {
      "name": "python"
    }
  },
  "cells": [
    {
      "cell_type": "markdown",
      "metadata": {
        "id": "view-in-github",
        "colab_type": "text"
      },
      "source": [
        "<a href=\"https://colab.research.google.com/github/guugimeness/guugimeness/blob/main/820759_AA3.ipynb\" target=\"_parent\"><img src=\"https://colab.research.google.com/assets/colab-badge.svg\" alt=\"Open In Colab\"/></a>"
      ]
    },
    {
      "cell_type": "markdown",
      "source": [
        "## Atividade Avaliativa 3"
      ],
      "metadata": {
        "id": "LOZhNM1GRqoi"
      }
    },
    {
      "cell_type": "markdown",
      "source": [
        "####**820759 - Gustavo de Oliveira Gimenes**"
      ],
      "metadata": {
        "id": "vycPIbd9R0hg"
      }
    },
    {
      "cell_type": "markdown",
      "source": [
        "#### **1) Desenvolva uma função para verificar se uma palavra é palíndroma utilizando uma pilha.**\n",
        "\n"
      ],
      "metadata": {
        "id": "XbPduXjvR532"
      }
    },
    {
      "cell_type": "code",
      "execution_count": 2,
      "metadata": {
        "colab": {
          "base_uri": "https://localhost:8080/",
          "height": 0
        },
        "id": "38Vh2hRtRk8o",
        "outputId": "d34f3723-13b3-4b3b-a706-1c614fd3caff"
      },
      "outputs": [
        {
          "output_type": "stream",
          "name": "stdout",
          "text": [
            "Lucas é palíndromo? False\n",
            "Ovo é palíndromo? True\n",
            "Ferro é palíndromo? False\n",
            "Radar é palíndromo? True\n",
            "Reler é palíndromo? True\n",
            "Reviver é palíndromo? True\n",
            "Algoritmo é palíndromo? False\n"
          ]
        }
      ],
      "source": [
        "class Stack:\n",
        "    def __init__(self):\n",
        "        self.__data = []\n",
        "        self.__index = 0\n",
        "    def push(self, key):\n",
        "        self.__data.append(key)\n",
        "    def pop(self):\n",
        "        return self.__data.pop()\n",
        "    def size(self):\n",
        "        return len(self.__data)\n",
        "    def is_empty(self):\n",
        "        return len(self.__data) == 0\n",
        "    def peek(self):\n",
        "        return self.__data[-1]\n",
        "    def __repr__(self) -> str:\n",
        "        return str(self.__data)\n",
        "    def __iter__(self):\n",
        "        self.__index = len(self.__data)\n",
        "        return self\n",
        "    def __next__(self):\n",
        "        if self.__index == 0:\n",
        "            raise StopIteration\n",
        "        self.__index -= 1\n",
        "        return self.__data[self.__index]\n",
        "\n",
        "def palindrome(word):\n",
        "    wordm = word.lower()  # Convertendo tudo para minúsculo\n",
        "    letters = Stack()\n",
        "\n",
        "    for i in range(0, len(wordm)):\n",
        "        letters.push(wordm[i])         # Empilhando os caracteres\n",
        "\n",
        "    for j in range(0, len(wordm)-1):\n",
        "        top = letters.pop()\n",
        "        if wordm[j] != top:\n",
        "            return False\n",
        "\n",
        "    return True\n",
        "\n",
        "# Execução\n",
        "print('Lucas é palíndromo?', palindrome('Lucas'))\n",
        "print('Ovo é palíndromo?', palindrome('Ovo'))\n",
        "print('Ferro é palíndromo?', palindrome('Ferro'))\n",
        "print('Radar é palíndromo?', palindrome('Radar'))\n",
        "print('Reler é palíndromo?', palindrome('Reler'))\n",
        "print('Reviver é palíndromo?', palindrome('Reviver'))\n",
        "print('Algoritmo é palíndromo?', palindrome('Algoritmo'))"
      ]
    },
    {
      "cell_type": "markdown",
      "source": [
        "#### **2) Dados A, B e MAX_SUM, encontre a pontuação máxima possível que Nick pode alcançar.**"
      ],
      "metadata": {
        "id": "zkQmPkJ2rhi_"
      }
    },
    {
      "cell_type": "code",
      "source": [
        "class Stack:\n",
        "    def __init__(self):\n",
        "        self.__data = []\n",
        "        self.__index = 0\n",
        "    def push(self, key):\n",
        "        self.__data.append(key)\n",
        "    def pop(self):\n",
        "        if not self.__data:\n",
        "            return\n",
        "        return self.__data.pop()\n",
        "    def size(self):\n",
        "        return len(self.__data)\n",
        "    def is_empty(self):\n",
        "        return len(self.__data) == 0\n",
        "    def peek(self):\n",
        "        return self.__data[-1]\n",
        "    def __repr__(self) -> str:\n",
        "        return str(self.__data)\n",
        "    def __iter__(self):\n",
        "        self.__index = len(self.__data)\n",
        "        return self\n",
        "    def __next__(self):\n",
        "        if self.__index == 0:\n",
        "            raise StopIteration\n",
        "        self.__index -= 1\n",
        "        return self.__data[self.__index]\n",
        "\n",
        "\n",
        "def game(a, b, max_sum):\n",
        "    A = Stack()   # Pilha A\n",
        "    B = Stack()    # Pilha B\n",
        "    psum = 0    # Soma do player\n",
        "    pont = 0    # Pontuação do player\n",
        "\n",
        "    for i in range(0, len(a)):\n",
        "        A.push(a[i])         # Empilhando os números de A\n",
        "\n",
        "    for j in range(0, len(b)):\n",
        "        B.push(b[j])         # Empilhando os números de B\n",
        "\n",
        "    while psum <= max_sum:\n",
        "        if A.peek()<=B.peek():\n",
        "            if psum + A.peek()>max_sum:\n",
        "                break\n",
        "            else:\n",
        "                psum += A.pop()\n",
        "                pont += 1\n",
        "        else:\n",
        "            if psum + B.peek()>max_sum:\n",
        "                break\n",
        "            else:\n",
        "                psum += B.pop()\n",
        "                pont += 1\n",
        "\n",
        "    return pont\n",
        "\n",
        "# Execução\n",
        "A = [5, 2, 9, 4, 6, 3, 1, 2, 4]\n",
        "B = [2, 6, 9, 7, 2, 5, 1, 4, 2, 5, 3]\n",
        "MAX_SUM = 20\n",
        "\n",
        "print('A máxima pontução do player será', game(A, B, MAX_SUM))"
      ],
      "metadata": {
        "colab": {
          "base_uri": "https://localhost:8080/",
          "height": 0
        },
        "id": "N8VSegHorpAC",
        "outputId": "90bbed35-e178-4b77-a4e2-9b65dcd7bdaf"
      },
      "execution_count": 12,
      "outputs": [
        {
          "output_type": "stream",
          "name": "stdout",
          "text": [
            "A máxima pontução do player será 7\n"
          ]
        }
      ]
    },
    {
      "cell_type": "markdown",
      "source": [
        "#### **3) Implemente uma função que compute a fatoração prima de um número imprimindo os seus fatores em ordem decrescente.**"
      ],
      "metadata": {
        "id": "Zt8wHwtEF49u"
      }
    },
    {
      "cell_type": "code",
      "source": [
        "class Stack:\n",
        "    def __init__(self):\n",
        "        self.__data = []\n",
        "        self.__index = 0\n",
        "    def push(self, key):\n",
        "        self.__data.append(key)\n",
        "    def pop(self):\n",
        "        return self.__data.pop()\n",
        "    def size(self):\n",
        "        return len(self.__data)\n",
        "    def is_empty(self):\n",
        "        return len(self.__data) == 0\n",
        "    def peek(self):\n",
        "        return self.__data[-1]\n",
        "    def __repr__(self) -> str:\n",
        "        return str(self.__data)\n",
        "    def __iter__(self):\n",
        "        self.__index = len(self.__data)\n",
        "        return self\n",
        "    def __next__(self):\n",
        "        if self.__index == 0:\n",
        "            raise StopIteration\n",
        "        self.__index -= 1\n",
        "        return self.__data[self.__index]\n",
        "\n",
        "\n",
        "def fat_prim(num):\n",
        "\n",
        "    n = num\n",
        "    fat = Stack()  # Pilha dos fatores primos (vazia inicialmente)\n",
        "    d=2\n",
        "\n",
        "    while n!=1:\n",
        "        if n%d==0:\n",
        "            fat.push(d)    # Se divide n, é colocado na pilha\n",
        "            n = n/d\n",
        "            d=2\n",
        "        else:\n",
        "            d += 1\n",
        "\n",
        "    print(f'Os fatores primos de {num} são:')\n",
        "    while not fat.is_empty():\n",
        "        print(fat.pop(), end=' ')\n",
        "    print('\\n')\n",
        "\n",
        "# Execução\n",
        "fat_prim(3960)\n",
        "fat_prim(5242)\n",
        "fat_prim(7412)"
      ],
      "metadata": {
        "colab": {
          "base_uri": "https://localhost:8080/",
          "height": 0
        },
        "id": "pvup14H6NmKA",
        "outputId": "e88dd3ad-da7a-44a6-8922-ed696c862d8a"
      },
      "execution_count": 13,
      "outputs": [
        {
          "output_type": "stream",
          "name": "stdout",
          "text": [
            "Os fatores primos de 3960 são:\n",
            "11 5 3 3 2 2 2 \n",
            "\n",
            "Os fatores primos de 5242 são:\n",
            "2621 2 \n",
            "\n",
            "Os fatores primos de 7412 são:\n",
            "109 17 2 2 \n",
            "\n"
          ]
        }
      ]
    },
    {
      "cell_type": "markdown",
      "source": [
        "####Note que os fatores primos do número são determinados sempre dos menores até os maiores, portanto, para imprimí-los de forma descrescente, era preciso uma estrutura que remove-se primeiro os últimos que entrassem. Com esse propósito, foi escolhido  para esta implementação o TAD Pilha, pelo simples fato dele ser uma estrutura LIFO, ou seja, o último que entra é o primeiro que sai."
      ],
      "metadata": {
        "id": "TbMPy_YvN0vy"
      }
    },
    {
      "cell_type": "markdown",
      "source": [
        "#### **4) Implemente uma fila utilizando duas pilhas. Explique o raciocínio utilizado e como a estrutura de dados funciona, ou seja, como são feitas as operações de enqueue e dequeue.**"
      ],
      "metadata": {
        "id": "h4_Xj_1OFtCM"
      }
    },
    {
      "cell_type": "code",
      "source": [
        "class Stack:\n",
        "    def __init__(self):\n",
        "        self.__data = []\n",
        "        self.__index = 0\n",
        "    def push(self, key):\n",
        "        self.__data.append(key)\n",
        "    def pop(self):\n",
        "        return self.__data.pop()\n",
        "    def size(self):\n",
        "        return len(self.__data)\n",
        "    def is_empty(self):\n",
        "        return len(self.__data) == 0\n",
        "    def peek(self):\n",
        "        return self.__data[-1]\n",
        "    def __repr__(self) -> str:\n",
        "        return str(self.__data)\n",
        "    def __iter__(self):\n",
        "        self.__index = len(self.__data)\n",
        "        return self\n",
        "    def __next__(self):\n",
        "        if self.__index == 0:\n",
        "            raise StopIteration\n",
        "        self.__index -= 1\n",
        "        return self.__data[self.__index]\n",
        "\n",
        "class Queue2Stacks:\n",
        "    def __init__(self):\n",
        "        self.stack_in = Stack()\n",
        "        self.stack_out = Stack()\n",
        "\n",
        "    def is_empty(self):\n",
        "        return self.stack_in.is_empty() and self.stack_out.is_empty()\n",
        "\n",
        "    def enqueue(self, key):\n",
        "        self.stack_in.push(key)\n",
        "\n",
        "    def dequeue(self):\n",
        "        if self.stack_out.is_empty():    # Se a pilha \"tail\" está vazia, transfira para ela os elementos da pilha \"head\"\n",
        "            while not self.stack_in.is_empty():\n",
        "                self.stack_out.push(self.stack_in.pop())\n",
        "        if self.stack_out.is_empty():\n",
        "            return None     # Se ainda estiver vazia, a fila está vazia\n",
        "        return self.stack_out.pop()\n",
        "\n",
        "    def size(self):\n",
        "        return self.stack_in.size()+self.stack_out.size()\n",
        "\n",
        "# Execução\n",
        "queue = Queue2Stacks()\n",
        "queue.enqueue(1)\n",
        "queue.enqueue(2)\n",
        "queue.enqueue(3)\n",
        "print(queue.dequeue())\n",
        "print(queue.dequeue())\n",
        "queue.enqueue(4)\n",
        "queue.enqueue(5)\n",
        "print(queue.dequeue())\n",
        "queue.enqueue(6)\n",
        "print(queue.dequeue())\n",
        "print(queue.dequeue())\n",
        "print(queue.dequeue())"
      ],
      "metadata": {
        "id": "-mUptIPqRCjr",
        "colab": {
          "base_uri": "https://localhost:8080/",
          "height": 0
        },
        "outputId": "54bdb09c-dcaf-49d5-8341-d62f01cba850"
      },
      "execution_count": 14,
      "outputs": [
        {
          "output_type": "stream",
          "name": "stdout",
          "text": [
            "1\n",
            "2\n",
            "3\n",
            "4\n",
            "5\n",
            "6\n"
          ]
        }
      ]
    },
    {
      "cell_type": "markdown",
      "source": [
        "\n",
        "####A implementação dessa fila usando duas pilhas segue um raciocínio inteligente para manter a ordem correta dos elementos, mesmo usando duas estruturas de pilha.\n",
        "\n",
        "- A operação de $\\color{blue}{enqueue}$ é simples: basta adicionar o elemento à pilha de entrada ($\\color{red}{stack\\_in}$). Isso representa a **inserção de um elemento na parte traseira da fila.** Não há necessidade de transferir elementos entre pilhas neste momento, pois a ordem dos elementos na pilha de entrada reflete a ordem em que eles foram adicionados à fila.\n",
        "\n",
        "\n",
        "- A operação de $\\color{blue}{dequeue}$ é um pouco mais complexa. Se a pilha de saída ($\\color{red}{stack\\_out}$) estiver vazia, precisamos transferir os elementos da pilha de entrada para ela.\n",
        "Ao fazer isso, os elementos que foram adicionados à pilha de entrada mais recentemente agora estão no topo da pilha de saída, invertendo a ordem. Assim, **ao remover um elemento da pilha de saída, estamos essencialmente removendo o elemento mais antigo que foi adicionado à fila.**\n",
        "Se a pilha de saída ainda estiver vazia após a transferência, a fila está vazia, e podemos retornar None."
      ],
      "metadata": {
        "id": "qthI7yeJMdrx"
      }
    },
    {
      "cell_type": "markdown",
      "source": [
        "#### **5) O problema do lanche dos estudantes.**"
      ],
      "metadata": {
        "id": "qnawAckFSRCr"
      }
    },
    {
      "cell_type": "code",
      "source": [
        "class Queue:\n",
        "    def __init__(self):\n",
        "        self.__items = []\n",
        "    def is_empty(self):\n",
        "        return self.__items == []\n",
        "    def enqueue(self, key):\n",
        "        self.__items.insert(0, key)\n",
        "    def dequeue(self):\n",
        "        return self.__items.pop()\n",
        "    def size(self):\n",
        "        return len(self.__items)\n",
        "    def __repr__(self) -> str:\n",
        "        return str(self.__items)\n",
        "    def __iter__(self):\n",
        "        return self.__items.__iter__()\n",
        "    def __getitem__(self, index: int):\n",
        "        return self.__items[index]\n",
        "\n",
        "class Stack:\n",
        "    def __init__(self):\n",
        "        self.__data = []\n",
        "        self.__index = 0\n",
        "    def push(self, key):\n",
        "        self.__data.append(key)\n",
        "    def pop(self):\n",
        "        return self.__data.pop()\n",
        "    def size(self):\n",
        "        return len(self.__data)\n",
        "    def is_empty(self):\n",
        "        return len(self.__data) == 0\n",
        "    def peek(self):\n",
        "        return self.__data[-1]\n",
        "    def __repr__(self) -> str:\n",
        "        return str(self.__data)\n",
        "    def __iter__(self):\n",
        "        self.__index = len(self.__data)\n",
        "        return self\n",
        "    def __next__(self):\n",
        "        if self.__index == 0:\n",
        "            raise StopIteration\n",
        "        self.__index -= 1\n",
        "        return self.__data[self.__index]\n",
        "\n",
        "\n",
        "def intervalo(estudantes, sanduiches):\n",
        "\n",
        "    sand = Stack()   # Pilha de sanduíches\n",
        "    estud = Queue()     # Fila de estudantes\n",
        "\n",
        "    for i in range(0, len(sanduiches)):\n",
        "        sand.push(sanduiches[i])         # Empilhando os sanduíches\n",
        "\n",
        "    for j in range(0, len(estudantes)):\n",
        "        estud.enqueue(estudantes[j])       # Enfileirando os alunos\n",
        "\n",
        "    print(estud, '--> Fila de estudantes')\n",
        "    print(sand, '--> Pilha de sanduíches')\n",
        "\n",
        "    while estud and sand and not all(estudantes != sand.peek() for estudantes in estud):\n",
        "        if estud[estud.size()-1] == sand.peek():\n",
        "            sand.pop()\n",
        "            estud.dequeue()   # Ele pegará o sanduíche e sairá da fila.\n",
        "        else:\n",
        "            estud.enqueue(estud.dequeue())  # Ele sairá sem pegar o sanduíche e irá para o final da fila.\n",
        "\n",
        "    return sand.size()\n",
        "\n",
        "\n",
        "# Execução\n",
        "estudante = [0, 1, 0, 0, 1, 1]\n",
        "sanduiches = [0, 1, 1, 1, 1, 1]\n",
        "print(intervalo(estudante, sanduiches), 'aluno(s) não conseguem comer o lanche!')"
      ],
      "metadata": {
        "colab": {
          "base_uri": "https://localhost:8080/",
          "height": 0
        },
        "id": "n1TXixghllHe",
        "outputId": "286fd991-493a-49cf-8565-8b4c09d22c6b"
      },
      "execution_count": 15,
      "outputs": [
        {
          "output_type": "stream",
          "name": "stdout",
          "text": [
            "[1, 1, 0, 0, 1, 0] --> Fila de estudantes\n",
            "[0, 1, 1, 1, 1, 1] --> Pilha de sanduíches\n",
            "3 aluno(s) não conseguem comer o lanche!\n"
          ]
        }
      ]
    }
  ]
}